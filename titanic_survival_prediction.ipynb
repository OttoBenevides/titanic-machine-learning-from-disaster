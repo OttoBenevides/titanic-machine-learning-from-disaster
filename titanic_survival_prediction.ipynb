{
 "cells": [
  {
   "cell_type": "code",
   "execution_count": 1,
   "id": "d03c1f9a-0b9d-4312-8273-f3a5173de4f7",
   "metadata": {},
   "outputs": [],
   "source": [
    "import numpy as np\n",
    "import pandas as pd\n",
    "import matplotlib.pyplot as plt\n",
    "import seaborn as sns\n",
    "sns.set()\n",
    "\n",
    "from sklearn.linear_model import LogisticRegression\n",
    "from sklearn.tree import DecisionTreeClassifier\n",
    "from sklearn.preprocessing import StandardScaler\n",
    "from sklearn.model_selection import train_test_split, GridSearchCV\n",
    "from sklearn.pipeline import Pipeline\n",
    "#from category_encoders import OneHotEncoder\n",
    "from sklearn.preprocessing import OneHotEncoder\n",
    "from sklearn.compose import ColumnTransformer\n",
    "from sklearn.metrics import confusion_matrix, roc_curve, auc, f1_score,accuracy_score, recall_score, precision_score"
   ]
  },
  {
   "cell_type": "code",
   "execution_count": 2,
   "id": "1278a3b8-82a8-4996-b2fa-8d0ebc3e66fa",
   "metadata": {},
   "outputs": [],
   "source": [
    "df = pd.read_csv('train.csv')"
   ]
  },
  {
   "cell_type": "code",
   "execution_count": 3,
   "id": "cdf8c5f5-d4fe-4e68-bb46-dfcf758aa4f0",
   "metadata": {},
   "outputs": [
    {
     "data": {
      "text/html": [
       "<div>\n",
       "<style scoped>\n",
       "    .dataframe tbody tr th:only-of-type {\n",
       "        vertical-align: middle;\n",
       "    }\n",
       "\n",
       "    .dataframe tbody tr th {\n",
       "        vertical-align: top;\n",
       "    }\n",
       "\n",
       "    .dataframe thead th {\n",
       "        text-align: right;\n",
       "    }\n",
       "</style>\n",
       "<table border=\"1\" class=\"dataframe\">\n",
       "  <thead>\n",
       "    <tr style=\"text-align: right;\">\n",
       "      <th></th>\n",
       "      <th>PassengerId</th>\n",
       "      <th>Survived</th>\n",
       "      <th>Pclass</th>\n",
       "      <th>Name</th>\n",
       "      <th>Sex</th>\n",
       "      <th>Age</th>\n",
       "      <th>SibSp</th>\n",
       "      <th>Parch</th>\n",
       "      <th>Ticket</th>\n",
       "      <th>Fare</th>\n",
       "      <th>Cabin</th>\n",
       "      <th>Embarked</th>\n",
       "    </tr>\n",
       "  </thead>\n",
       "  <tbody>\n",
       "    <tr>\n",
       "      <th>0</th>\n",
       "      <td>1</td>\n",
       "      <td>0</td>\n",
       "      <td>3</td>\n",
       "      <td>Braund, Mr. Owen Harris</td>\n",
       "      <td>male</td>\n",
       "      <td>22.0</td>\n",
       "      <td>1</td>\n",
       "      <td>0</td>\n",
       "      <td>A/5 21171</td>\n",
       "      <td>7.2500</td>\n",
       "      <td>NaN</td>\n",
       "      <td>S</td>\n",
       "    </tr>\n",
       "    <tr>\n",
       "      <th>1</th>\n",
       "      <td>2</td>\n",
       "      <td>1</td>\n",
       "      <td>1</td>\n",
       "      <td>Cumings, Mrs. John Bradley (Florence Briggs Th...</td>\n",
       "      <td>female</td>\n",
       "      <td>38.0</td>\n",
       "      <td>1</td>\n",
       "      <td>0</td>\n",
       "      <td>PC 17599</td>\n",
       "      <td>71.2833</td>\n",
       "      <td>C85</td>\n",
       "      <td>C</td>\n",
       "    </tr>\n",
       "    <tr>\n",
       "      <th>2</th>\n",
       "      <td>3</td>\n",
       "      <td>1</td>\n",
       "      <td>3</td>\n",
       "      <td>Heikkinen, Miss. Laina</td>\n",
       "      <td>female</td>\n",
       "      <td>26.0</td>\n",
       "      <td>0</td>\n",
       "      <td>0</td>\n",
       "      <td>STON/O2. 3101282</td>\n",
       "      <td>7.9250</td>\n",
       "      <td>NaN</td>\n",
       "      <td>S</td>\n",
       "    </tr>\n",
       "    <tr>\n",
       "      <th>3</th>\n",
       "      <td>4</td>\n",
       "      <td>1</td>\n",
       "      <td>1</td>\n",
       "      <td>Futrelle, Mrs. Jacques Heath (Lily May Peel)</td>\n",
       "      <td>female</td>\n",
       "      <td>35.0</td>\n",
       "      <td>1</td>\n",
       "      <td>0</td>\n",
       "      <td>113803</td>\n",
       "      <td>53.1000</td>\n",
       "      <td>C123</td>\n",
       "      <td>S</td>\n",
       "    </tr>\n",
       "    <tr>\n",
       "      <th>4</th>\n",
       "      <td>5</td>\n",
       "      <td>0</td>\n",
       "      <td>3</td>\n",
       "      <td>Allen, Mr. William Henry</td>\n",
       "      <td>male</td>\n",
       "      <td>35.0</td>\n",
       "      <td>0</td>\n",
       "      <td>0</td>\n",
       "      <td>373450</td>\n",
       "      <td>8.0500</td>\n",
       "      <td>NaN</td>\n",
       "      <td>S</td>\n",
       "    </tr>\n",
       "  </tbody>\n",
       "</table>\n",
       "</div>"
      ],
      "text/plain": [
       "   PassengerId  Survived  Pclass  \\\n",
       "0            1         0       3   \n",
       "1            2         1       1   \n",
       "2            3         1       3   \n",
       "3            4         1       1   \n",
       "4            5         0       3   \n",
       "\n",
       "                                                Name     Sex   Age  SibSp  \\\n",
       "0                            Braund, Mr. Owen Harris    male  22.0      1   \n",
       "1  Cumings, Mrs. John Bradley (Florence Briggs Th...  female  38.0      1   \n",
       "2                             Heikkinen, Miss. Laina  female  26.0      0   \n",
       "3       Futrelle, Mrs. Jacques Heath (Lily May Peel)  female  35.0      1   \n",
       "4                           Allen, Mr. William Henry    male  35.0      0   \n",
       "\n",
       "   Parch            Ticket     Fare Cabin Embarked  \n",
       "0      0         A/5 21171   7.2500   NaN        S  \n",
       "1      0          PC 17599  71.2833   C85        C  \n",
       "2      0  STON/O2. 3101282   7.9250   NaN        S  \n",
       "3      0            113803  53.1000  C123        S  \n",
       "4      0            373450   8.0500   NaN        S  "
      ]
     },
     "execution_count": 3,
     "metadata": {},
     "output_type": "execute_result"
    }
   ],
   "source": [
    "# Visualizando as primeiras linhas\n",
    "df.head()"
   ]
  },
  {
   "cell_type": "code",
   "execution_count": 4,
   "id": "fb2873c9-f7bc-4fe4-8e10-7e6323ab00a0",
   "metadata": {},
   "outputs": [],
   "source": [
    "# Vamos retirar a coluna PassengerId\n",
    "df.drop('PassengerId', axis=1, inplace=True)"
   ]
  },
  {
   "cell_type": "code",
   "execution_count": 5,
   "id": "4522f985-6620-4e93-9b77-629601a14d23",
   "metadata": {},
   "outputs": [
    {
     "name": "stdout",
     "output_type": "stream",
     "text": [
      "<class 'pandas.core.frame.DataFrame'>\n",
      "RangeIndex: 891 entries, 0 to 890\n",
      "Data columns (total 11 columns):\n",
      " #   Column    Non-Null Count  Dtype  \n",
      "---  ------    --------------  -----  \n",
      " 0   Survived  891 non-null    int64  \n",
      " 1   Pclass    891 non-null    int64  \n",
      " 2   Name      891 non-null    object \n",
      " 3   Sex       891 non-null    object \n",
      " 4   Age       714 non-null    float64\n",
      " 5   SibSp     891 non-null    int64  \n",
      " 6   Parch     891 non-null    int64  \n",
      " 7   Ticket    891 non-null    object \n",
      " 8   Fare      891 non-null    float64\n",
      " 9   Cabin     204 non-null    object \n",
      " 10  Embarked  889 non-null    object \n",
      "dtypes: float64(2), int64(4), object(5)\n",
      "memory usage: 76.7+ KB\n"
     ]
    }
   ],
   "source": [
    "# Visualizando algumas informações sobre os dados\n",
    "df.info()"
   ]
  },
  {
   "cell_type": "markdown",
   "id": "8a4affc2-58a1-41aa-9d70-33d48c962883",
   "metadata": {},
   "source": [
    "O nosso conjunto de dados é composto por 891 linha e 11 colunas, dentre essas colunas temos dados categóricos e numéricos. A coluna que queremos prever, `Survived`, é um dado binário (0, 1) onde, o valor 1 representa que a pessoa sobreviveu e o 0 não sobreviveu."
   ]
  },
  {
   "cell_type": "code",
   "execution_count": 6,
   "id": "3e7451ca-5721-43ed-88f1-4b512ebfe262",
   "metadata": {},
   "outputs": [
    {
     "data": {
      "text/plain": [
       "Survived      0\n",
       "Pclass        0\n",
       "Name          0\n",
       "Sex           0\n",
       "Age         177\n",
       "SibSp         0\n",
       "Parch         0\n",
       "Ticket        0\n",
       "Fare          0\n",
       "Cabin       687\n",
       "Embarked      2\n",
       "dtype: int64"
      ]
     },
     "execution_count": 6,
     "metadata": {},
     "output_type": "execute_result"
    }
   ],
   "source": [
    "# Procurando valores nulos\n",
    "df.isnull().sum()"
   ]
  },
  {
   "cell_type": "code",
   "execution_count": 7,
   "id": "8adb6b1f-552a-4db8-bac2-36297846b024",
   "metadata": {},
   "outputs": [
    {
     "data": {
      "text/plain": [
       "0"
      ]
     },
     "execution_count": 7,
     "metadata": {},
     "output_type": "execute_result"
    }
   ],
   "source": [
    "# Checando linhas duplicadas\n",
    "df.duplicated().sum()"
   ]
  },
  {
   "cell_type": "markdown",
   "id": "3de3b32a-ede9-447d-8508-4a1da7a779d9",
   "metadata": {},
   "source": [
    "O nosso dataset não possui linhas duplicadas, porém possui 3 colunas (Age, Cabin, Embarked) com alguns valores nulos."
   ]
  },
  {
   "cell_type": "code",
   "execution_count": 8,
   "id": "6985e016-114a-46fe-a23a-8b7fae809d4d",
   "metadata": {},
   "outputs": [],
   "source": [
    "# Dividindo os dados em X e y\n",
    "target = 'Survived'\n",
    "\n",
    "# Variáveis preditoras\n",
    "X = df.drop(target, axis=1).copy()\n",
    "\n",
    "# Variável que queremos prever\n",
    "y = df[target]"
   ]
  },
  {
   "cell_type": "code",
   "execution_count": 9,
   "id": "39e33c4a-e7a5-4608-b3b5-eda79b94aa76",
   "metadata": {},
   "outputs": [],
   "source": [
    "# Dividindo os dados em treino e teste\n",
    "X_train, X_test, y_train, y_test = train_test_split(X, y, test_size=0.3, random_state=1)"
   ]
  },
  {
   "cell_type": "markdown",
   "id": "58fdb2f4-b2a5-4e12-9e4c-6faefc24e6f1",
   "metadata": {},
   "source": [
    "## Data cleaning e Valores nulos"
   ]
  },
  {
   "cell_type": "markdown",
   "id": "06b3c2ae-ae78-439d-b46c-24a2de49fcd6",
   "metadata": {},
   "source": [
    "### Age"
   ]
  },
  {
   "cell_type": "code",
   "execution_count": 10,
   "id": "f36cfef1-42bd-4e81-9d36-66a59eec27e5",
   "metadata": {},
   "outputs": [
    {
     "name": "stdout",
     "output_type": "stream",
     "text": [
      "A Porcentagem de valores faltantes em \"Age\" é 20.39%\n"
     ]
    }
   ],
   "source": [
    "# Quantidade de valores nulos em \"Age\"\n",
    "print('A Porcentagem de valores faltantes em \"Age\" é {:.2f}%'\n",
    "      .format((X_train['Age'].isnull().sum()/X_train.shape[0])*100))"
   ]
  },
  {
   "cell_type": "markdown",
   "id": "4657691e-9844-4746-8c6f-d4f7ac92690e",
   "metadata": {},
   "source": [
    "Aproximadamente 20% dos dados da coluna `Age` estão faltando, vamos dar uma olhada na sua distribuição"
   ]
  },
  {
   "cell_type": "code",
   "execution_count": 11,
   "id": "fc33f3a4-6220-4049-844a-5415814d99bd",
   "metadata": {},
   "outputs": [
    {
     "data": {
      "text/plain": [
       "(-5.0, 85.0)"
      ]
     },
     "execution_count": 11,
     "metadata": {},
     "output_type": "execute_result"
    },
    {
     "data": {
      "image/png": "[encoded data removed]",
      "text/plain": [
       "<Figure size 432x288 with 1 Axes>"
      ]
     },
     "metadata": {
      "needs_background": "light"
     },
     "output_type": "display_data"
    }
   ],
   "source": [
    "ax = X_train['Age'].hist(bins=20, density=True, stacked=True, color='blue', alpha=0.4)\n",
    "X_train['Age'].plot(kind='density', color='blue')\n",
    "plt.xlim(-5,85)"
   ]
  },
  {
   "cell_type": "markdown",
   "id": "36d70558-edeb-46b6-b0ac-8548abdef9d1",
   "metadata": {},
   "source": [
    "Pelo gráfico podemos perceber que a coluna Age é um pouco assimétrica à direita, assim, usar a média no lugar dos valores nulos pode resultar em resultados enviesados. Para lidar com isso, usaremos a mediana para preencher os valores ausentes."
   ]
  },
  {
   "cell_type": "code",
   "execution_count": 12,
   "id": "28c5c98e-fe4d-435e-bd75-e167f2cf3f94",
   "metadata": {},
   "outputs": [
    {
     "name": "stdout",
     "output_type": "stream",
     "text": [
      "Média da coluna \"Age\": 30.08\n",
      "Mediana da coluna \"Age\": 28.75\n"
     ]
    }
   ],
   "source": [
    "print('Média da coluna \"Age\": {:.2f}'.format(X_train['Age'].mean()))\n",
    "print('Mediana da coluna \"Age\": {:.2f}'.format(X_train['Age'].median()))"
   ]
  },
  {
   "cell_type": "markdown",
   "id": "7efdc7d7-b138-4cb3-b43d-c1244c2a26d9",
   "metadata": {},
   "source": [
    "### Cabin"
   ]
  },
  {
   "cell_type": "code",
   "execution_count": 13,
   "id": "da3993f4-103e-4eaa-a8d8-54a3eef44522",
   "metadata": {},
   "outputs": [
    {
     "name": "stdout",
     "output_type": "stream",
     "text": [
      "A Porcentagem de valores faltantes em \"Cabin\" é 78.33%\n"
     ]
    }
   ],
   "source": [
    "# Quantidade de valores nulos em \"Cabin\"\n",
    "\n",
    "print('A Porcentagem de valores faltantes em \"Cabin\" é {:.2f}%'\n",
    "      .format((X_train['Cabin'].isnull().sum()/X_train.shape[0])*100))"
   ]
  },
  {
   "cell_type": "markdown",
   "id": "bb17b7ae-92e9-443e-9263-5e3076e904be",
   "metadata": {},
   "source": [
    "Devido à grande porcentagem de valores ausentes (78%) nessa coluna, não iremos incluir essa variável no modelo."
   ]
  },
  {
   "cell_type": "markdown",
   "id": "55de13e3-8c03-450f-ad52-9912605108ef",
   "metadata": {},
   "source": [
    "### Embarked"
   ]
  },
  {
   "cell_type": "code",
   "execution_count": 14,
   "id": "ad955538-683d-447e-9112-7caf0d2113db",
   "metadata": {},
   "outputs": [
    {
     "name": "stdout",
     "output_type": "stream",
     "text": [
      "A Porcentagem de valores faltantes em \"Embarked\" é 0.16%\n"
     ]
    }
   ],
   "source": [
    "# Quantidade de valores nuloes em \"Embarked\"\n",
    "\n",
    "print('A Porcentagem de valores faltantes em \"Embarked\" é {:.2f}%'\n",
    "      .format((X_train['Embarked'].isnull().sum()/X_train.shape[0])*100))"
   ]
  },
  {
   "cell_type": "markdown",
   "id": "df963ebe-2408-41ad-a95e-80fbfcb39c91",
   "metadata": {},
   "source": [
    "Existem apenas 1 valor ausente nesta coluna, assim, vamos apenas inserir a moda da coluna nesse valor"
   ]
  },
  {
   "cell_type": "code",
   "execution_count": 15,
   "id": "3bd1734e-225a-4f2a-b217-1b19caedf42e",
   "metadata": {},
   "outputs": [
    {
     "name": "stdout",
     "output_type": "stream",
     "text": [
      "O porto de embarque que mais aparece nos dados é S\n"
     ]
    }
   ],
   "source": [
    "print('O porto de embarque que mais aparece nos dados é {}'.format(X_train['Embarked'].mode()[0]))"
   ]
  },
  {
   "cell_type": "markdown",
   "id": "68ee2957-1213-4fe6-ba2e-95d63cd395e9",
   "metadata": {},
   "source": [
    "### SibSp e Parch"
   ]
  },
  {
   "cell_type": "markdown",
   "id": "a9912498-5c1e-433b-93c4-d8ede7c22575",
   "metadata": {},
   "source": [
    "De forma a simplificar o modelo, vamos combinar as colunas `SibSp` e `Parch` em uma categoria preditora, de forma que represente se o indivíduo estava viajando sozinho ou não."
   ]
  },
  {
   "cell_type": "markdown",
   "id": "639ce2b2-d0ce-4d34-910b-c8c62ebcce52",
   "metadata": {},
   "source": [
    "### Outras variáveis categóricas"
   ]
  },
  {
   "cell_type": "markdown",
   "id": "9785780a-e553-40c4-b7e7-89134aac14c0",
   "metadata": {},
   "source": [
    "As variáveis categóricas `Pclass` e `Embarked` vamos transformar em dummies, a variável `Sex` transforemos em 1 e 0, onde 1 representa o sexo maculina e 0 o feminino. E escolhemos não utilizar as colunas `Name` e `Ticket`, visto que queremos manter o modelo simples."
   ]
  },
  {
   "cell_type": "markdown",
   "id": "33bdbc3f-3cbd-4bb7-a2f7-c5cea73d72d9",
   "metadata": {},
   "source": [
    "## Transformações dos dados de treino"
   ]
  },
  {
   "cell_type": "markdown",
   "id": "9053a1aa-e6d3-49e1-908e-d93c6cfbd58a",
   "metadata": {},
   "source": [
    "Vamos implementar todas as transformações que discutimos anteriormente"
   ]
  },
  {
   "cell_type": "code",
   "execution_count": 16,
   "id": "ef200013-1617-4bf2-ad66-2756d5caa7fc",
   "metadata": {},
   "outputs": [],
   "source": [
    "# Preenchendo NaN da coluna Age com a mediana\n",
    "X_train['Age'].fillna(X_train['Age'].median(), inplace=True)\n",
    "\n",
    "# Retirando a coluna Cabin por conter muitos valores missing\n",
    "X_train.drop('Cabin', axis=1, inplace=True)\n",
    "\n",
    "# Inserindo a mode na coluna Embarked\n",
    "X_train['Embarked'].fillna(X_train['Embarked'].mode()[0], inplace=True)\n",
    "\n",
    "# Criando a coluna TravelAlone, representando se a pessoa esta viajando sozinha ou não\n",
    "X_train['TravelAlone'] = np.where((X_train['SibSp']+X_train['Parch'])==0, 0, 1)\n",
    "X_train.drop(['SibSp', 'Parch'], axis=1, inplace=True)\n",
    "\n",
    "# Pegando variáveis dummies\n",
    "X_train_final = pd.get_dummies(X_train, columns=['Pclass', 'Embarked'])\n",
    "\n",
    "# Transformando a variável Sex de categórica para numérica\n",
    "X_train_final['Sex'] = np.where(X_train['Sex']=='female', 0, 1)\n",
    "\n",
    "# Retirando colunas que não vamos usar no modelo\n",
    "X_train_final.drop(['Name', 'Ticket'], axis=1, inplace=True)"
   ]
  },
  {
   "cell_type": "code",
   "execution_count": 17,
   "id": "823efe59-f9bb-4beb-8d1e-393910718113",
   "metadata": {},
   "outputs": [
    {
     "data": {
      "text/plain": [
       "Sex            0\n",
       "Age            0\n",
       "Fare           0\n",
       "TravelAlone    0\n",
       "Pclass_1       0\n",
       "Pclass_2       0\n",
       "Pclass_3       0\n",
       "Embarked_C     0\n",
       "Embarked_Q     0\n",
       "Embarked_S     0\n",
       "dtype: int64"
      ]
     },
     "execution_count": 17,
     "metadata": {},
     "output_type": "execute_result"
    }
   ],
   "source": [
    "X_train_final.isnull().sum()"
   ]
  },
  {
   "cell_type": "code",
   "execution_count": 18,
   "id": "93257141-eaba-40f3-a36d-c3167c65fbc0",
   "metadata": {},
   "outputs": [
    {
     "data": {
      "text/html": [
       "<div>\n",
       "<style scoped>\n",
       "    .dataframe tbody tr th:only-of-type {\n",
       "        vertical-align: middle;\n",
       "    }\n",
       "\n",
       "    .dataframe tbody tr th {\n",
       "        vertical-align: top;\n",
       "    }\n",
       "\n",
       "    .dataframe thead th {\n",
       "        text-align: right;\n",
       "    }\n",
       "</style>\n",
       "<table border=\"1\" class=\"dataframe\">\n",
       "  <thead>\n",
       "    <tr style=\"text-align: right;\">\n",
       "      <th></th>\n",
       "      <th>Sex</th>\n",
       "      <th>Age</th>\n",
       "      <th>Fare</th>\n",
       "      <th>TravelAlone</th>\n",
       "      <th>Pclass_1</th>\n",
       "      <th>Pclass_2</th>\n",
       "      <th>Pclass_3</th>\n",
       "      <th>Embarked_C</th>\n",
       "      <th>Embarked_Q</th>\n",
       "      <th>Embarked_S</th>\n",
       "    </tr>\n",
       "  </thead>\n",
       "  <tbody>\n",
       "    <tr>\n",
       "      <th>114</th>\n",
       "      <td>0</td>\n",
       "      <td>17.00</td>\n",
       "      <td>14.4583</td>\n",
       "      <td>0</td>\n",
       "      <td>0</td>\n",
       "      <td>0</td>\n",
       "      <td>1</td>\n",
       "      <td>1</td>\n",
       "      <td>0</td>\n",
       "      <td>0</td>\n",
       "    </tr>\n",
       "    <tr>\n",
       "      <th>874</th>\n",
       "      <td>0</td>\n",
       "      <td>28.00</td>\n",
       "      <td>24.0000</td>\n",
       "      <td>1</td>\n",
       "      <td>0</td>\n",
       "      <td>1</td>\n",
       "      <td>0</td>\n",
       "      <td>1</td>\n",
       "      <td>0</td>\n",
       "      <td>0</td>\n",
       "    </tr>\n",
       "    <tr>\n",
       "      <th>76</th>\n",
       "      <td>1</td>\n",
       "      <td>28.75</td>\n",
       "      <td>7.8958</td>\n",
       "      <td>0</td>\n",
       "      <td>0</td>\n",
       "      <td>0</td>\n",
       "      <td>1</td>\n",
       "      <td>0</td>\n",
       "      <td>0</td>\n",
       "      <td>1</td>\n",
       "    </tr>\n",
       "    <tr>\n",
       "      <th>876</th>\n",
       "      <td>1</td>\n",
       "      <td>20.00</td>\n",
       "      <td>9.8458</td>\n",
       "      <td>0</td>\n",
       "      <td>0</td>\n",
       "      <td>0</td>\n",
       "      <td>1</td>\n",
       "      <td>0</td>\n",
       "      <td>0</td>\n",
       "      <td>1</td>\n",
       "    </tr>\n",
       "    <tr>\n",
       "      <th>674</th>\n",
       "      <td>1</td>\n",
       "      <td>28.75</td>\n",
       "      <td>0.0000</td>\n",
       "      <td>0</td>\n",
       "      <td>0</td>\n",
       "      <td>1</td>\n",
       "      <td>0</td>\n",
       "      <td>0</td>\n",
       "      <td>0</td>\n",
       "      <td>1</td>\n",
       "    </tr>\n",
       "  </tbody>\n",
       "</table>\n",
       "</div>"
      ],
      "text/plain": [
       "     Sex    Age     Fare  TravelAlone  Pclass_1  Pclass_2  Pclass_3  \\\n",
       "114    0  17.00  14.4583            0         0         0         1   \n",
       "874    0  28.00  24.0000            1         0         1         0   \n",
       "76     1  28.75   7.8958            0         0         0         1   \n",
       "876    1  20.00   9.8458            0         0         0         1   \n",
       "674    1  28.75   0.0000            0         0         1         0   \n",
       "\n",
       "     Embarked_C  Embarked_Q  Embarked_S  \n",
       "114           1           0           0  \n",
       "874           1           0           0  \n",
       "76            0           0           1  \n",
       "876           0           0           1  \n",
       "674           0           0           1  "
      ]
     },
     "execution_count": 18,
     "metadata": {},
     "output_type": "execute_result"
    }
   ],
   "source": [
    "X_train_final.head()"
   ]
  },
  {
   "cell_type": "markdown",
   "id": "82bf06b3-253f-4bd7-b7cf-fe3c84565c81",
   "metadata": {},
   "source": [
    "## Transformações dos dados de teste"
   ]
  },
  {
   "cell_type": "markdown",
   "id": "e12ef6a0-e4fd-40db-bd20-c8f709eec648",
   "metadata": {},
   "source": [
    "Vamos implementar todas as transformações que discutimos anteriormente nos dados de teste"
   ]
  },
  {
   "cell_type": "code",
   "execution_count": 19,
   "id": "132968db-3163-44b7-a457-9584609b6495",
   "metadata": {},
   "outputs": [],
   "source": [
    "# Preenchendo NaN da coluna Age com a mediana\n",
    "X_test['Age'].fillna(X_train['Age'].median(), inplace=True)\n",
    "\n",
    "# Retirando a coluna Cabin por conter muitos valores missing\n",
    "X_test.drop('Cabin', axis=1, inplace=True)\n",
    "\n",
    "# Inserindo a mode na coluna Embarked\n",
    "X_test['Embarked'].fillna(X_train['Embarked'].mode()[0], inplace=True)\n",
    "\n",
    "# Criando a coluna TravelAlone, representando se a pessoa esta viajando sozinha ou não\n",
    "X_test['TravelAlone'] = np.where((X_test['SibSp']+X_test['Parch'])==0, 0, 1)\n",
    "X_test.drop(['SibSp', 'Parch'], axis=1, inplace=True)\n",
    "\n",
    "# Pegando variáveis dummies\n",
    "X_test_final = pd.get_dummies(X_test, columns=['Pclass', 'Embarked'])\n",
    "\n",
    "# Transformando a variável Sex de categórica para numérica\n",
    "X_test_final['Sex'] = np.where(X_test['Sex']=='female', 0, 1)\n",
    "\n",
    "# Retirando colunas que não vamos usar no modelo\n",
    "X_test_final.drop(['Name', 'Ticket'], axis=1, inplace=True)"
   ]
  },
  {
   "cell_type": "code",
   "execution_count": 20,
   "id": "3b26d894-da60-4cf1-a762-2570b58f1b9a",
   "metadata": {},
   "outputs": [
    {
     "data": {
      "text/plain": [
       "Sex            0\n",
       "Age            0\n",
       "Fare           0\n",
       "TravelAlone    0\n",
       "Pclass_1       0\n",
       "Pclass_2       0\n",
       "Pclass_3       0\n",
       "Embarked_C     0\n",
       "Embarked_Q     0\n",
       "Embarked_S     0\n",
       "dtype: int64"
      ]
     },
     "execution_count": 20,
     "metadata": {},
     "output_type": "execute_result"
    }
   ],
   "source": [
    "X_test_final.isnull().sum()"
   ]
  },
  {
   "cell_type": "code",
   "execution_count": 21,
   "id": "50757ebb-f2ab-4357-9db1-83493927cde5",
   "metadata": {},
   "outputs": [
    {
     "data": {
      "text/html": [
       "<div>\n",
       "<style scoped>\n",
       "    .dataframe tbody tr th:only-of-type {\n",
       "        vertical-align: middle;\n",
       "    }\n",
       "\n",
       "    .dataframe tbody tr th {\n",
       "        vertical-align: top;\n",
       "    }\n",
       "\n",
       "    .dataframe thead th {\n",
       "        text-align: right;\n",
       "    }\n",
       "</style>\n",
       "<table border=\"1\" class=\"dataframe\">\n",
       "  <thead>\n",
       "    <tr style=\"text-align: right;\">\n",
       "      <th></th>\n",
       "      <th>Sex</th>\n",
       "      <th>Age</th>\n",
       "      <th>Fare</th>\n",
       "      <th>TravelAlone</th>\n",
       "      <th>Pclass_1</th>\n",
       "      <th>Pclass_2</th>\n",
       "      <th>Pclass_3</th>\n",
       "      <th>Embarked_C</th>\n",
       "      <th>Embarked_Q</th>\n",
       "      <th>Embarked_S</th>\n",
       "    </tr>\n",
       "  </thead>\n",
       "  <tbody>\n",
       "    <tr>\n",
       "      <th>862</th>\n",
       "      <td>0</td>\n",
       "      <td>48.00</td>\n",
       "      <td>25.9292</td>\n",
       "      <td>0</td>\n",
       "      <td>1</td>\n",
       "      <td>0</td>\n",
       "      <td>0</td>\n",
       "      <td>0</td>\n",
       "      <td>0</td>\n",
       "      <td>1</td>\n",
       "    </tr>\n",
       "    <tr>\n",
       "      <th>223</th>\n",
       "      <td>1</td>\n",
       "      <td>28.75</td>\n",
       "      <td>7.8958</td>\n",
       "      <td>0</td>\n",
       "      <td>0</td>\n",
       "      <td>0</td>\n",
       "      <td>1</td>\n",
       "      <td>0</td>\n",
       "      <td>0</td>\n",
       "      <td>1</td>\n",
       "    </tr>\n",
       "    <tr>\n",
       "      <th>84</th>\n",
       "      <td>0</td>\n",
       "      <td>17.00</td>\n",
       "      <td>10.5000</td>\n",
       "      <td>0</td>\n",
       "      <td>0</td>\n",
       "      <td>1</td>\n",
       "      <td>0</td>\n",
       "      <td>0</td>\n",
       "      <td>0</td>\n",
       "      <td>1</td>\n",
       "    </tr>\n",
       "    <tr>\n",
       "      <th>680</th>\n",
       "      <td>0</td>\n",
       "      <td>28.75</td>\n",
       "      <td>8.1375</td>\n",
       "      <td>0</td>\n",
       "      <td>0</td>\n",
       "      <td>0</td>\n",
       "      <td>1</td>\n",
       "      <td>0</td>\n",
       "      <td>1</td>\n",
       "      <td>0</td>\n",
       "    </tr>\n",
       "    <tr>\n",
       "      <th>535</th>\n",
       "      <td>0</td>\n",
       "      <td>7.00</td>\n",
       "      <td>26.2500</td>\n",
       "      <td>1</td>\n",
       "      <td>0</td>\n",
       "      <td>1</td>\n",
       "      <td>0</td>\n",
       "      <td>0</td>\n",
       "      <td>0</td>\n",
       "      <td>1</td>\n",
       "    </tr>\n",
       "  </tbody>\n",
       "</table>\n",
       "</div>"
      ],
      "text/plain": [
       "     Sex    Age     Fare  TravelAlone  Pclass_1  Pclass_2  Pclass_3  \\\n",
       "862    0  48.00  25.9292            0         1         0         0   \n",
       "223    1  28.75   7.8958            0         0         0         1   \n",
       "84     0  17.00  10.5000            0         0         1         0   \n",
       "680    0  28.75   8.1375            0         0         0         1   \n",
       "535    0   7.00  26.2500            1         0         1         0   \n",
       "\n",
       "     Embarked_C  Embarked_Q  Embarked_S  \n",
       "862           0           0           1  \n",
       "223           0           0           1  \n",
       "84            0           0           1  \n",
       "680           0           1           0  \n",
       "535           0           0           1  "
      ]
     },
     "execution_count": 21,
     "metadata": {},
     "output_type": "execute_result"
    }
   ],
   "source": [
    "X_test_final.head()"
   ]
  },
  {
   "cell_type": "markdown",
   "id": "37a0dd31-49b0-4ae9-abc5-6d55db252831",
   "metadata": {},
   "source": [
    "# Regressão Logística"
   ]
  },
  {
   "cell_type": "code",
   "execution_count": 22,
   "id": "a0b14378-22e4-413f-98fa-aa2e0d4d075b",
   "metadata": {},
   "outputs": [],
   "source": [
    "logreg = Pipeline(steps=[('scaler', StandardScaler()),\n",
    "                        ('logistic', LogisticRegression())])"
   ]
  },
  {
   "cell_type": "code",
   "execution_count": 23,
   "id": "71d8852a-cb9e-4c00-9f7c-d75620f4b88a",
   "metadata": {},
   "outputs": [
    {
     "name": "stdout",
     "output_type": "stream",
     "text": [
      "Parametros: {'logistic__C': 0.90001}\n",
      "Melhor score: 0.8106502816180235\n"
     ]
    }
   ],
   "source": [
    "param_grid = {'logistic__C': np.arange(1e-5, 3, 0.1)}\n",
    "logreg_cv = GridSearchCV(logreg, param_grid=param_grid, cv=10)\n",
    "\n",
    "logreg_cv.fit(X_train_final, y_train)\n",
    "\n",
    "# Verifica os melhores parametros e melhor acuracia\n",
    "print(\"Parametros: {}\".format(logreg_cv.best_params_))\n",
    "print(\"Melhor score: {}\".format(logreg_cv.best_score_))"
   ]
  },
  {
   "cell_type": "code",
   "execution_count": 24,
   "id": "e16ca075-1502-47ab-b0c1-6425e411e625",
   "metadata": {},
   "outputs": [],
   "source": [
    "predictions = logreg_cv.predict(X_test_final)"
   ]
  },
  {
   "cell_type": "code",
   "execution_count": 25,
   "id": "4ce5e5fe-32cb-4601-8a93-d67667adb73b",
   "metadata": {},
   "outputs": [],
   "source": [
    "def plot_cm(y, pred):\n",
    "    ax = sns.heatmap(confusion_matrix(y, pred), fmt='.0f', annot=True, cmap='Blues')\n",
    "\n",
    "    ax.set_title('Matriz de confusão\\n');\n",
    "    ax.set_xlabel('\\nValores Previstos')\n",
    "    ax.set_ylabel('Valores Reais');\n",
    "    ax.xaxis.set_ticklabels(['False','True'])\n",
    "    ax.yaxis.set_ticklabels(['False','True'])"
   ]
  },
  {
   "cell_type": "code",
   "execution_count": 26,
   "id": "081f4340-61cb-4ef9-bbd5-082aa9c29136",
   "metadata": {},
   "outputs": [],
   "source": [
    "# computa probabilidades\n",
    "y_pred_prob = logreg_cv.predict_proba(X_test_final)[:,1]\n",
    "fpr, tpr, thresholds = roc_curve(y_test, y_pred_prob)\n",
    "\n",
    "def plot_roc(y, fpr, tpr):\n",
    "    # Gera fpr, tpr e thresholds    \n",
    "    # curva ROC\n",
    "    plt.plot([0, 1], [0, 1], 'k--')\n",
    "    plt.plot(fpr, tpr, label='ROC curve (area = %0.3f)' % auc(fpr, tpr))\n",
    "    plt.xlabel('\\nTaxa de falsos positivos')\n",
    "    plt.ylabel('Taxa de Verdadeiro Positivo')\n",
    "    plt.title('ROC Curve\\n')\n",
    "    plt.legend(loc=\"lower right\")\n",
    "    plt.show()"
   ]
  },
  {
   "cell_type": "code",
   "execution_count": 27,
   "id": "c1fe6e8b-73df-436e-8106-fd49126b99ab",
   "metadata": {},
   "outputs": [
    {
     "data": {
      "image/png": "[encoded data removed]",
      "text/plain": [
       "<Figure size 1080x360 with 3 Axes>"
      ]
     },
     "metadata": {
      "needs_background": "light"
     },
     "output_type": "display_data"
    },
    {
     "name": "stdout",
     "output_type": "stream",
     "text": [
      "accurace: 0.7649253731343284\n",
      "f1-score: 0.7069767441860464\n",
      "recall: 0.6608695652173913\n",
      "precision: 0.76\n"
     ]
    }
   ],
   "source": [
    "plt.figure(figsize=(15,5))\n",
    "plt.subplot(1,2,1)\n",
    "plot_cm(y_test, predictions)\n",
    "plt.subplot(1,2,2)\n",
    "plot_roc(y_test, fpr, tpr)\n",
    "#plt.tight_layout()\n",
    "\n",
    "print('accurace: {}'.format(accuracy_score(y_test, predictions)))\n",
    "print('f1-score: {}'.format(f1_score(y_test, predictions)))\n",
    "print('recall: {}'.format(recall_score(y_test, predictions)))\n",
    "print('precision: {}'.format(precision_score(y_test, predictions)))"
   ]
  },
  {
   "cell_type": "markdown",
   "id": "2754c097-0c14-4fb3-9dce-87df272187dc",
   "metadata": {},
   "source": [
    "# Arvores de Decisão"
   ]
  },
  {
   "cell_type": "markdown",
   "id": "061f692f-6f11-46fb-98d0-0fc360650ef1",
   "metadata": {},
   "source": [
    "## Critério Gini"
   ]
  },
  {
   "cell_type": "code",
   "execution_count": 28,
   "id": "3f8a2dca-4fd5-4c75-8603-fd7cf1160374",
   "metadata": {},
   "outputs": [
    {
     "name": "stdout",
     "output_type": "stream",
     "text": [
      "Parametros: {'tree__max_leaf_nodes': 10, 'tree__min_samples_split': 2}\n",
      "Melhor score: 0.8427291346646184\n"
     ]
    }
   ],
   "source": [
    "tree_gini = Pipeline(steps=[('scaler', StandardScaler()),\n",
    "                           ('tree', DecisionTreeClassifier(criterion='gini', random_state=0))])\n",
    "\n",
    "params = {'tree__max_leaf_nodes': list(range(2, 100)), 'tree__min_samples_split': [2, 3, 4]}\n",
    "\n",
    "tree_gini_cv = GridSearchCV(tree_gini,\n",
    "                            param_grid=params, cv=10)\n",
    "\n",
    "tree_gini_cv.fit(X_train_final, y_train)\n",
    "\n",
    "# Verifica os melhores parametros e melhor acuracia\n",
    "print(\"Parametros: {}\".format(tree_gini_cv.best_params_))\n",
    "print(\"Melhor score: {}\".format(tree_gini_cv.best_score_))"
   ]
  },
  {
   "cell_type": "code",
   "execution_count": 29,
   "id": "58e6930c-825d-478a-b41f-d2686c655b19",
   "metadata": {},
   "outputs": [],
   "source": [
    "predictions_gini = tree_gini_cv.predict(X_test_final)"
   ]
  },
  {
   "cell_type": "code",
   "execution_count": 30,
   "id": "618ecb56-3b00-4d1b-8f85-7fe3fdbeb87f",
   "metadata": {},
   "outputs": [],
   "source": [
    "# computa probabilidades\n",
    "y_pred_prob = tree_gini_cv.predict_proba(X_test_final)[:,1]\n",
    "fpr, tpr, thresholds = roc_curve(y_test, y_pred_prob)"
   ]
  },
  {
   "cell_type": "code",
   "execution_count": 31,
   "id": "5d96a3ae-c01f-443d-b0c0-4558a71b5cc1",
   "metadata": {},
   "outputs": [
    {
     "data": {
      "image/png": "[encoded data removed]",
      "text/plain": [
       "<Figure size 1080x360 with 3 Axes>"
      ]
     },
     "metadata": {
      "needs_background": "light"
     },
     "output_type": "display_data"
    },
    {
     "name": "stdout",
     "output_type": "stream",
     "text": [
      "accurace: 0.7761194029850746\n",
      "f1-score: 0.6875000000000001\n",
      "recall: 0.5739130434782609\n",
      "precision: 0.8571428571428571\n"
     ]
    }
   ],
   "source": [
    "plt.figure(figsize=(15,5))\n",
    "plt.subplot(1,2,1)\n",
    "plot_cm(y_test, predictions_gini)\n",
    "plt.subplot(1,2,2)\n",
    "plot_roc(y_test, fpr, tpr)\n",
    "#plt.tight_layout()\n",
    "\n",
    "print('accurace: {}'.format(accuracy_score(y_test, predictions_gini)))\n",
    "print('f1-score: {}'.format(f1_score(y_test, predictions_gini)))\n",
    "print('recall: {}'.format(recall_score(y_test, predictions_gini)))\n",
    "print('precision: {}'.format(precision_score(y_test, predictions_gini)))"
   ]
  },
  {
   "cell_type": "markdown",
   "id": "bf282d4c-a670-4123-bbe6-2598e735c6eb",
   "metadata": {},
   "source": [
    "## Entropia"
   ]
  },
  {
   "cell_type": "code",
   "execution_count": 32,
   "id": "5c156565-135e-4f1b-9b74-3df51b641bbb",
   "metadata": {},
   "outputs": [
    {
     "name": "stdout",
     "output_type": "stream",
     "text": [
      "Parametros: {'tree__max_leaf_nodes': 10, 'tree__min_samples_split': 2}\n",
      "Melhor score: 0.8492063492063491\n"
     ]
    }
   ],
   "source": [
    "tree_entr = Pipeline(steps=[('scaler', StandardScaler()),\n",
    "                           ('tree', DecisionTreeClassifier(criterion='entropy', random_state=0))])\n",
    "\n",
    "params = {'tree__max_leaf_nodes': list(range(2, 100)), 'tree__min_samples_split': [2, 3, 4]}\n",
    "\n",
    "tree_entr_cv = GridSearchCV(tree_entr,\n",
    "                            param_grid=params, cv=10)\n",
    "\n",
    "tree_entr_cv.fit(X_train_final, y_train)\n",
    "\n",
    "# Verifica os melhores parametros e melhor acuracia\n",
    "print(\"Parametros: {}\".format(tree_entr_cv.best_params_))\n",
    "print(\"Melhor score: {}\".format(tree_entr_cv.best_score_))"
   ]
  },
  {
   "cell_type": "code",
   "execution_count": 33,
   "id": "c5b74d3e-5286-4e6c-9c4a-6d53d23e678d",
   "metadata": {},
   "outputs": [],
   "source": [
    "predictions_entr = tree_entr_cv.predict(X_test_final)"
   ]
  },
  {
   "cell_type": "code",
   "execution_count": 34,
   "id": "d2333011-f023-4214-9a03-b8bcd3d453fc",
   "metadata": {},
   "outputs": [],
   "source": [
    "# computa probabilidades\n",
    "y_pred_prob = tree_entr_cv.predict_proba(X_test_final)[:,1]\n",
    "fpr, tpr, thresholds = roc_curve(y_test, y_pred_prob)"
   ]
  },
  {
   "cell_type": "code",
   "execution_count": 35,
   "id": "eb0528c3-e086-4b3d-ad56-71c700ea282a",
   "metadata": {},
   "outputs": [
    {
     "data": {
      "image/png": "[encoded data removed]",
      "text/plain": [
       "<Figure size 1080x360 with 3 Axes>"
      ]
     },
     "metadata": {
      "needs_background": "light"
     },
     "output_type": "display_data"
    },
    {
     "name": "stdout",
     "output_type": "stream",
     "text": [
      "accurace: 0.7761194029850746\n",
      "f1-score: 0.6875000000000001\n",
      "recall: 0.5739130434782609\n",
      "precision: 0.8571428571428571\n"
     ]
    }
   ],
   "source": [
    "plt.figure(figsize=(15,5))\n",
    "plt.subplot(1,2,1)\n",
    "plot_cm(y_test, predictions_entr)\n",
    "plt.subplot(1,2,2)\n",
    "plot_roc(y_test, fpr, tpr)\n",
    "#plt.tight_layout()\n",
    "\n",
    "print('accurace: {}'.format(accuracy_score(y_test, predictions_entr)))\n",
    "print('f1-score: {}'.format(f1_score(y_test, predictions_entr)))\n",
    "print('recall: {}'.format(recall_score(y_test, predictions_entr)))\n",
    "print('precision: {}'.format(precision_score(y_test, predictions_entr)))"
   ]
  }
 ],
 "metadata": {
  "kernelspec": {
   "display_name": "Python 3 (ipykernel)",
   "language": "python",
   "name": "python3"
  },
  "language_info": {
   "codemirror_mode": {
    "name": "ipython",
    "version": 3
   },
   "file_extension": ".py",
   "mimetype": "text/x-python",
   "name": "python",
   "nbconvert_exporter": "python",
   "pygments_lexer": "ipython3",
   "version": "3.10.4"
  }
 },
 "nbformat": 4,
 "nbformat_minor": 5
}
